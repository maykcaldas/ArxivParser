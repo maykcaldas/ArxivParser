{
 "cells": [
  {
   "cell_type": "code",
   "execution_count": null,
   "metadata": {},
   "outputs": [],
   "source": []
  },
  {
   "cell_type": "markdown",
   "metadata": {},
   "source": [
    "# Setup"
   ]
  },
  {
   "cell_type": "code",
   "execution_count": 1,
   "metadata": {},
   "outputs": [
    {
     "data": {
      "text/plain": [
       "True"
      ]
     },
     "execution_count": 1,
     "metadata": {},
     "output_type": "execute_result"
    }
   ],
   "source": [
    "import dspy\n",
    "\n",
    "from dotenv import load_dotenv\n",
    "load_dotenv()"
   ]
  },
  {
   "cell_type": "code",
   "execution_count": 36,
   "metadata": {},
   "outputs": [
    {
     "data": {
      "text/plain": [
       "<bound method Settings.configure of {'lm': <dsp.modules.gpt3.GPT3 object at 0x15f785450>, 'rm': None, 'branch_idx': 0, 'reranker': None, 'compiled_lm': None, 'force_reuse_cached_compilation': False, 'compiling': False, 'skip_logprobs': False, 'trace': None, 'release': 0, 'log_openai_usage': False, 'bypass_assert': False, 'bypass_suggest': False, 'assert_failures': 0, 'suggest_failures': 0, 'langchain_history': []}>"
      ]
     },
     "execution_count": 36,
     "metadata": {},
     "output_type": "execute_result"
    }
   ],
   "source": [
    "# print(gpt35_turbo.inspect_history(1))\n",
    "dspy.configure"
   ]
  },
  {
   "cell_type": "markdown",
   "metadata": {},
   "source": [
    "# DSPy playground"
   ]
  },
  {
   "cell_type": "markdown",
   "metadata": {},
   "source": [
    "DSPy consists of two different concepts brought together:\n",
    "- DSPy programming language\n",
    "- DSPy compiler\n",
    "\n",
    "The DSPy programming language focus on organizing LMs as building blocks to create a more complex system. Here, LMs are treated as layers in a neural network, while their prompts are the weights.\n",
    "> In this context, different prompting techniques are seen as different layers: Predict (zero-shot), ChainOfThought, React, and so on.\n",
    "\n",
    "The DSPy compiler is a tool to optimize the DSPy program. The compiler uses a DSPy program, a training set, and a metric to optimize the program following a teleprompt (an optimizer)\n",
    "\n",
    "Therefore, the parallel follows:\n",
    "\n",
    "| DSPy              | PyTorch                   |\n",
    "| :--------:        | :-------:                 |\n",
    "| LMs               | Layers                    |\n",
    "| LM prompts        | Layers' weights           |\n",
    "| Teleprompters     | Optimizer                 |\n",
    "| Compiling         | Training                  |\n",
    "| Bootstraping      | Hyperparameters tuning    |\n"
   ]
  },
  {
   "cell_type": "markdown",
   "metadata": {},
   "source": [
    "Hands-on!\n",
    "\n",
    "Despite DSPy's architecture, we can still call LMs directly"
   ]
  },
  {
   "cell_type": "code",
   "execution_count": 2,
   "metadata": {},
   "outputs": [],
   "source": [
    "gpt35_turbo = dspy.OpenAI(model='gpt-3.5-turbo-instruct')\n",
    "# gpt35_turbo = dspy.OpenAI(model='gpt-3.5-turbo-1106', model_type=\"text\")\n",
    "dspy.settings.configure(lm=gpt35_turbo)"
   ]
  },
  {
   "cell_type": "code",
   "execution_count": 3,
   "metadata": {},
   "outputs": [
    {
     "name": "stdout",
     "output_type": "stream",
     "text": [
      "---------------------------------------- Output ----------------------------------------\n",
      "['\\n\\nYes, you can call LM (linear model) models directly in DSPy using the LinearModel class. This class allows you to create and manipulate linear models, including fitting them to data, making predictions, and evaluating model performance.', '\\n\\nNo, DSPy does not have the capability to directly call LM models. DSPy is a library for digital signal processing and does not have any specific functionality for LM models. However, you can use DSPy to preprocess data and then use a separate library or tool to call LM models.', '\\n\\nNo, DSPy does not have a direct interface for calling LM models. It is designed to be used for building and training neural networks, not for directly calling pre-trained models. However, DSPy does have the ability to load and use pre-trained models as part of the network architecture, so you could use it in that way if you have a pre-trained LM model that you want to incorporate into your network.', '\\n\\nYes, DSPy allows you to call LM models directly by importing them from the \"lm\" module. For example, you can use the following code to import and call the linear regression model:\\n\\n```\\nfrom dspy.lm import LinearRegression\\n\\n# create an instance of the model\\nmodel = LinearRegression()\\n\\n# fit the model to your data\\nmodel.fit(X, y)\\n\\n# make predictions\\npredictions = model.predict(X_test)\\n```\\n\\nYou can also import and use other LM models such as Ridge, Lasso, and ElasticNet in a similar manner. ', '\\n\\nYes, you can call LM models directly using DSPy. DSPy provides a variety of functions and classes for working with LM models, including loading, fitting, and evaluating models. You can also use DSPy to manipulate and visualize the data used in the models.']\n",
      "----------------------------------------------------------------------------------------\n",
      "\n"
     ]
    }
   ],
   "source": [
    "config = {\n",
    "    'n' : 5,\n",
    "    'max_tokens' : 250,\n",
    "    'temperature' : 0.5,\n",
    "}\n",
    "h = f\"{40*'-'} Output {40*'-'}\"\n",
    "print(f\"{h}\\n\"\n",
    "      f\"{gpt35_turbo('Using DSPy, can I just call LM models directly?', **config)}\"\n",
    "      f\"\\n{len(h)*'-'}\\n\"\n",
    "      )\n"
   ]
  },
  {
   "cell_type": "markdown",
   "metadata": {},
   "source": [
    "Of course, we dont need DSPy for that. DSPy strength comes from wrapping LMs in programming modules (layers) that can be assambled to create programs (models)"
   ]
  },
  {
   "cell_type": "code",
   "execution_count": 10,
   "metadata": {},
   "outputs": [
    {
     "name": "stdout",
     "output_type": "stream",
     "text": [
      "---------------------------------------- Predict output ----------------------------------------\n",
      "['Paris', 'Paris']\n",
      "------------------------------------------------------------------------------------------------\n",
      "\n",
      "----------------------------------- Chain of Thoughts output -----------------------------------\n",
      "['The capital of France is Paris.', 'Paris']\n",
      "------------------------------------------------------------------------------------------------\n"
     ]
    }
   ],
   "source": [
    "pred = dspy.Predict('question -> answer', **config)\n",
    "\n",
    "h = f\"{40*'-'} Predict output {40*'-'}\"\n",
    "print(f\"{h}\\n\"\n",
    "      f\"{pred(question = 'What is the capital of France?').completions.answer}\"\n",
    "      f\"\\n{len(h)*'-'}\\n\"\n",
    "      )\n",
    "\n",
    "CoT = dspy.ChainOfThought('question -> answer', **config)\n",
    "h = f\"{35*'-'} Chain of Thoughts output {35*'-'}\"\n",
    "print(f\"{h}\\n\"\n",
    "      f\"{CoT(question = 'What is the capital of France?').completions.answer}\"\n",
    "      f\"\\n{len(h)*'-'}\"\n",
    "      )"
   ]
  },
  {
   "cell_type": "code",
   "execution_count": 9,
   "metadata": {},
   "outputs": [
    {
     "name": "stdout",
     "output_type": "stream",
     "text": [
      "\n",
      "\n",
      "\n",
      "\n",
      "Given the fields `question`, produce the fields `answer`.\n",
      "\n",
      "---\n",
      "\n",
      "Follow the following format.\n",
      "\n",
      "Question: ${question}\n",
      "Answer: ${answer}\n",
      "\n",
      "---\n",
      "\n",
      "Question: The average score on last week's Spanish test was 90. Marco scored 10% less than the average test score and Margaret received 5 more points than Marco. What score did Margaret receive on her test?\n",
      "Answer: 86\n",
      "\n",
      "---\n",
      "\n",
      "Question: Bridget counted 14 shooting stars in the night sky. Reginald counted two fewer shooting stars than did Bridget, but Sam counted four more shooting stars than did Reginald. How many more shooting stars did Sam count in the night sky than was the average number of shooting stars observed for the three of them?\n",
      "Answer: 2\n",
      "\n",
      "---\n",
      "\n",
      "Question: Sarah buys 20 pencils on Monday. Then she buys 18 more pencils on Tuesday. On Wednesday she buys triple the number of pencils she did on Tuesday. How many pencils does she have?\n",
      "Answer: 92\n",
      "\n",
      "---\n",
      "\n",
      "Question: The result from the 40-item Statistics exam Marion and Ella took already came out. Ella got 4 incorrect answers while Marion got 6 more than half the score of Ella. What is Marion's score?\n",
      "Answer: 24\n",
      "\n",
      "---\n",
      "\n",
      "Question: Nancy bought a pie sliced it into 8 pieces. She gave 1/2 to Joe and Darcy, and she gave 1/4 to Carl. How many slices were left?\n",
      "Answer: 2\n",
      "\n",
      "---\n",
      "\n",
      "Question: Stephen made 10 round trips up and down a 40,000 foot tall mountain. If he reached 3/4 of the mountain's height on each of his trips, calculate the total distance he covered.\n",
      "Answer: 600000\n",
      "\n",
      "---\n",
      "\n",
      "Question: Megan pays $16 for a shirt that costs $22 before sales. What is the amount of the discount?\n",
      "Answer: 6\n",
      "\n",
      "---\n",
      "\n",
      "Question: A third of the contestants at a singing competition are female, and the rest are male. If there are 18 contestants in total, how many of them are male?\n",
      "Answer: 12\n",
      "\n",
      "---\n",
      "\n",
      "Question: Rookie police officers have to buy duty shoes at the full price of $85, but officers who have served at least a year get a 20% discount. Officers who have served at least three years get an additional 25% off the discounted price. How much does an officer who has served at least three years have to pay for shoes?\n",
      "Answer: 51\n",
      "\n",
      "---\n",
      "\n",
      "Question: Amaya scored 20 marks fewer in Maths than she scored in Arts. She also got 10 marks more in Social Studies than she got in Music. If she scored 70 in Music and scored 1/10 less in Maths, what's the total number of marks she scored in all the subjects?\n",
      "Answer: 296\n",
      "\n",
      "---\n",
      "\n",
      "Question: Trey is raising money for a new bike that costs $112. He plans to spend the next two weeks selling bracelets for $1 each. On average, how many bracelets does he need to sell each day?\n",
      "Answer:\u001b[32m 8\u001b[0m\n",
      "\n",
      "\n",
      "\n"
     ]
    }
   ],
   "source": [
    "gpt35_turbo.inspect_history(n=1)"
   ]
  },
  {
   "cell_type": "markdown",
   "metadata": {},
   "source": [
    "But how do we know which LM are `dspy.Predict` and `dspy.ChainOfThought using`? \n",
    "\n",
    "Annoyingly, DSPy takes the LM from its configuration (`dspy.settings.configure(lm=gpt35_turbo)`), not from the modules. \n",
    "\n",
    "But there's a workaround: `dspy.context`."
   ]
  },
  {
   "cell_type": "code",
   "execution_count": 4,
   "metadata": {},
   "outputs": [
    {
     "name": "stdout",
     "output_type": "stream",
     "text": [
      "---------------------------------------- Predict output ----------------------------------------\n",
      "['Question: What is the capital of France?\\nAnswer: The capital of France is Paris.', 'Question: What is the capital of France?\\nAnswer: The capital of France is Paris.']\n",
      "------------------------------------------------------------------------------------------------\n",
      "\n"
     ]
    }
   ],
   "source": [
    "gpt4_turbo = dspy.OpenAI(model='gpt-4-1106-preview')\n",
    "\n",
    "with dspy.context(lm=gpt4_turbo):\n",
    "  config = {\n",
    "      'n' : 2,\n",
    "      'max_tokens' : 250,\n",
    "      'temperature' : 0.5,\n",
    "  }\n",
    "  pred = dspy.Predict('question -> answer', **config)\n",
    "\n",
    "  h = f\"{40*'-'} Predict output {40*'-'}\"\n",
    "  print(f\"{h}\\n\"\n",
    "        f\"{pred(question = 'What is the capital of France?').completions.answer}\"\n",
    "        f\"\\n{len(h)*'-'}\\n\"\n",
    "        )"
   ]
  },
  {
   "cell_type": "markdown",
   "metadata": {},
   "source": [
    "DSPy supports a few remote LMs:\n",
    "- OpenAI\n",
    "- AzureOpenAI\n",
    "- Cohere\n",
    "- Anyscale\n",
    "- Together\n",
    "- Databricks\n",
    "- Mistral\n",
    "- dspy.AWSMistral\n",
    "- dspy.AWSAnthropic\n",
    "- dspy.AWSMeta\n",
    "- ...\n",
    "\n",
    "But we can also use local LMs using a local server with:\n",
    "- HFClientTGI\n",
    "- HFClientVLLM\n",
    "- HFModel"
   ]
  },
  {
   "cell_type": "markdown",
   "metadata": {},
   "source": [
    "# Reproducing DSPy"
   ]
  },
  {
   "cell_type": "markdown",
   "metadata": {},
   "source": [
    "## GSM8K dataset"
   ]
  },
  {
   "cell_type": "code",
   "execution_count": 11,
   "metadata": {},
   "outputs": [],
   "source": [
    "from dspy.datasets.gsm8k import GSM8K, gsm8k_metric\n",
    "from dspy.teleprompt import (\n",
    "    LabeledFewShot,\n",
    "    BootstrapFewShotWithRandomSearch,\n",
    "    Ensemble\n",
    ")\n",
    "from dspy.evaluate import Evaluate\n",
    "\n",
    "gpt35_turbo = dspy.OpenAI(model='gpt-3.5-turbo-instruct')\n",
    "dspy.settings.configure(lm=gpt35_turbo)"
   ]
  },
  {
   "cell_type": "code",
   "execution_count": 14,
   "metadata": {},
   "outputs": [
    {
     "name": "stderr",
     "output_type": "stream",
     "text": [
      "100%|██████████| 7473/7473 [00:00<00:00, 61440.46it/s]\n",
      "100%|██████████| 1319/1319 [00:00<00:00, 70845.01it/s]\n"
     ]
    }
   ],
   "source": [
    "gsm8k = GSM8K()\n",
    "gsm8k_trainset, gsm8k_devset = gsm8k.train[:10], gsm8k.dev[:10]"
   ]
  },
  {
   "cell_type": "code",
   "execution_count": 15,
   "metadata": {},
   "outputs": [
    {
     "name": "stdout",
     "output_type": "stream",
     "text": [
      "Question: Megan pays $16 for a shirt that costs $22 before sales. What is the amount of the discount?\n",
      "Answer: 6\n"
     ]
    }
   ],
   "source": [
    "q=8\n",
    "print(\n",
    "    f'Question: {gsm8k_trainset[q].question}\\n'\n",
    "    f'Answer: {gsm8k_trainset[q].answer}'\n",
    "    )"
   ]
  },
  {
   "cell_type": "markdown",
   "metadata": {},
   "source": [
    "### gpt-3.5 turbo with no fancy prompt"
   ]
  },
  {
   "cell_type": "code",
   "execution_count": null,
   "metadata": {},
   "outputs": [],
   "source": [
    "class Vanilla(dspy.Module):\n",
    "    def __init__(self):\n",
    "        super().__init__()\n",
    "        self.predict = dspy.Predict(\"question -> answer\")\n",
    "    \n",
    "    def forward(self, question):\n",
    "        return self.predict(question=question)\n",
    "\n",
    "vanilla = Vanilla()\n",
    "vanilla(question=gsm8k_trainset[8].question)\n",
    "\n",
    "# Compiling\n",
    "fewshot = LabeledFewShot(k=8).compile(vanilla, trainset=gsm8k_trainset)\n",
    "\n",
    "tp = BootstrapFewShotWithRandomSearch(metric=gsm8k_metric)\n",
    "bootstrap = tp.compile(vanilla , trainset=gsm8k_trainset , valset=gsm8k_devset)\n",
    "bootstrap2 = tp.compile(vanilla , teacher=bootstrap, trainset=gsm8k_trainset, valset=gsm8k_devset)\n",
    "\n",
    "# ensemble = Ensemble(reduce_fn=dspy.majority).compile(x[-1] for x in bootstrap.candidate_programs[:3])"
   ]
  },
  {
   "cell_type": "code",
   "execution_count": 17,
   "metadata": {},
   "outputs": [
    {
     "name": "stdout",
     "output_type": "stream",
     "text": [
      "Checking it for a random question: \n",
      "Question: Martha's cat catches 3 rats and 7 birds. Cara's cat catches 3 less than five times as many animals as Martha's cat. How many animals does Cara's cat catch?\n",
      "Label:      47\n",
      "zeroshot:   32\n",
      "fewshot:    32\n",
      "bootstrap:  32\n",
      "bootstrap2: 32\n",
      "\n",
      "Now, a systematic evaluation\n"
     ]
    },
    {
     "name": "stderr",
     "output_type": "stream",
     "text": [
      "Average Metric: 0 / 10  (0.0): 100%|██████████| 10/10 [00:00<00:00, 1146.27it/s]\n"
     ]
    },
    {
     "name": "stdout",
     "output_type": "stream",
     "text": [
      "Average Metric: 0 / 10  (0.0%)\n"
     ]
    },
    {
     "name": "stderr",
     "output_type": "stream",
     "text": [
      "Average Metric: 3 / 10  (30.0): 100%|██████████| 10/10 [00:00<00:00, 393.98it/s]\n"
     ]
    },
    {
     "name": "stdout",
     "output_type": "stream",
     "text": [
      "Average Metric: 3 / 10  (30.0%)\n"
     ]
    },
    {
     "name": "stderr",
     "output_type": "stream",
     "text": [
      "Average Metric: 3 / 10  (30.0): 100%|██████████| 10/10 [00:00<00:00, 1300.20it/s]\n"
     ]
    },
    {
     "name": "stdout",
     "output_type": "stream",
     "text": [
      "Average Metric: 3 / 10  (30.0%)\n"
     ]
    },
    {
     "name": "stderr",
     "output_type": "stream",
     "text": [
      "Average Metric: 3 / 10  (30.0): 100%|██████████| 10/10 [00:00<00:00, 1698.65it/s]"
     ]
    },
    {
     "name": "stdout",
     "output_type": "stream",
     "text": [
      "Average Metric: 3 / 10  (30.0%)\n",
      "\n",
      "Scores:\n",
      "zeroshot:   0.0\n",
      "fewshot:    30.0\n",
      "bootstrap:  30.0\n",
      "bootstrap2: 30.0\n",
      "\n"
     ]
    },
    {
     "name": "stderr",
     "output_type": "stream",
     "text": [
      "\n"
     ]
    }
   ],
   "source": [
    "print(f\"Checking it for a random question: \\nQuestion: {gsm8k_devset[q].question}\")\n",
    "print(f\"Label:      {gsm8k_devset[q].answer}\\n\"\n",
    "      f\"zeroshot:   {vanilla(gsm8k_devset[q].question).answer}\\n\"\n",
    "      f\"fewshot:    {fewshot(gsm8k_devset[q].question).answer}\\n\"\n",
    "      f\"bootstrap:  {bootstrap(gsm8k_devset[q].question).answer}\\n\"\n",
    "      f\"bootstrap2: {bootstrap2(gsm8k_devset[q].question).answer}\\n\"\n",
    "      # f\"ensemble: {ensemble(gsm8k_devset[q].question).answer}\\n\"\n",
    "      )\n",
    "\n",
    "\n",
    "print(\"Now, a systematic evaluation\")\n",
    "evaluate = Evaluate(devset=gsm8k_devset, metric=gsm8k_metric, num_threads=1, display_progress=True, display_table=0)\n",
    "print(f\"\\nScores:\\n\"\n",
    "      f\"zeroshot:   {evaluate(vanilla)}\\n\"\n",
    "      f\"fewshot:    {evaluate(fewshot)}\\n\"\n",
    "      f\"bootstrap:  {evaluate(bootstrap)}\\n\"\n",
    "      f\"bootstrap2: {evaluate(bootstrap2)}\\n\"\n",
    "      # f\"Ensemble: {evaluate(ensemble)}\\n\"\n",
    "      )"
   ]
  },
  {
   "cell_type": "markdown",
   "metadata": {},
   "source": [
    "### gpt-3.5 turbo with ChainOfThought"
   ]
  },
  {
   "cell_type": "code",
   "execution_count": null,
   "metadata": {},
   "outputs": [],
   "source": [
    "class CoT(dspy.Module):\n",
    "    def __init__(self):\n",
    "        super().__init__()\n",
    "        self.cot = dspy.ChainOfThought(\"question -> answer\")\n",
    "    \n",
    "    def forward(self, question):\n",
    "        return self.cot(question=question)\n",
    "\n",
    "cot = CoT()\n",
    "\n",
    "# Compiling\n",
    "fewshot = LabeledFewShot(k=8).compile(cot, trainset=gsm8k_trainset)\n",
    "\n",
    "tp = BootstrapFewShotWithRandomSearch(metric=gsm8k_metric)\n",
    "bootstrap = tp.compile(cot , trainset=gsm8k_trainset , valset=gsm8k_devset)\n",
    "bootstrap2 = tp.compile(cot , teacher=bootstrap, trainset=gsm8k_trainset, valset=gsm8k_devset)\n",
    "# ensemble = Ensemble(reduce_fn=dspy.majority).compile()"
   ]
  },
  {
   "cell_type": "code",
   "execution_count": 13,
   "metadata": {},
   "outputs": [
    {
     "name": "stdout",
     "output_type": "stream",
     "text": [
      "Checking it for a random question: \n",
      "Question: Martha's cat catches 3 rats and 7 birds. Cara's cat catches 3 less than five times as many animals as Martha's cat. How many animals does Cara's cat catch?\n",
      "Label:      47\n",
      "zeroshot:   Cara's cat catches 47 animals.\n",
      "fewshot:    47\n",
      "bootstrap:  47\n",
      "bootstrap2: 47\n",
      "\n",
      "Now, a systematic evaluation\n"
     ]
    },
    {
     "name": "stderr",
     "output_type": "stream",
     "text": [
      "Average Metric: 6 / 10  (60.0): 100%|██████████| 10/10 [00:00<00:00, 3890.82it/s]"
     ]
    },
    {
     "name": "stdout",
     "output_type": "stream",
     "text": [
      "Average Metric: 6 / 10  (60.0%)\n"
     ]
    },
    {
     "name": "stderr",
     "output_type": "stream",
     "text": [
      "\n",
      "Average Metric: 6 / 10  (60.0): 100%|██████████| 10/10 [00:00<00:00, 295.27it/s]\n"
     ]
    },
    {
     "name": "stdout",
     "output_type": "stream",
     "text": [
      "Average Metric: 6 / 10  (60.0%)\n"
     ]
    },
    {
     "name": "stderr",
     "output_type": "stream",
     "text": [
      "Average Metric: 10 / 10  (100.0): 100%|██████████| 10/10 [00:00<00:00, 2626.04it/s]\n"
     ]
    },
    {
     "name": "stdout",
     "output_type": "stream",
     "text": [
      "Average Metric: 10 / 10  (100.0%)\n"
     ]
    },
    {
     "name": "stderr",
     "output_type": "stream",
     "text": [
      "Average Metric: 10 / 10  (100.0): 100%|██████████| 10/10 [00:00<00:00, 4547.66it/s]"
     ]
    },
    {
     "name": "stdout",
     "output_type": "stream",
     "text": [
      "Average Metric: 10 / 10  (100.0%)\n",
      "\n",
      "Scores:\n",
      "zeroshot:   60.0\n",
      "fewshot:    60.0\n",
      "bootstrap:  100.0\n",
      "bootstrap2: 100.0\n",
      "\n"
     ]
    },
    {
     "name": "stderr",
     "output_type": "stream",
     "text": [
      "\n"
     ]
    }
   ],
   "source": [
    "print(f\"Checking it for a random question: \\nQuestion: {gsm8k_devset[q].question}\")\n",
    "print(f\"Label:      {gsm8k_devset[q].answer}\\n\"\n",
    "      f\"zeroshot:   {cot(gsm8k_devset[q].question).answer}\\n\"\n",
    "      f\"fewshot:    {fewshot(gsm8k_devset[q].question).answer}\\n\"\n",
    "      f\"bootstrap:  {bootstrap(gsm8k_devset[q].question).answer}\\n\"\n",
    "      f\"bootstrap2: {bootstrap2(gsm8k_devset[q].question).answer}\\n\"\n",
    "      # f\"Ensemble: {ensemble(gsm8k_devset[q].question).answer}\\n\"\n",
    "      )\n",
    "\n",
    "print(\"Now, a systematic evaluation\")\n",
    "evaluate = Evaluate(devset=gsm8k_devset, metric=gsm8k_metric, num_threads=4, display_progress=True, display_table=0)\n",
    "print(f\"\\nScores:\\n\"\n",
    "      f\"zeroshot:   {evaluate(cot)}\\n\"\n",
    "      f\"fewshot:    {evaluate(fewshot)}\\n\"\n",
    "      f\"bootstrap:  {evaluate(bootstrap)}\\n\"\n",
    "      f\"bootstrap2: {evaluate(bootstrap2)}\\n\"\n",
    "      # f\"Ensemble: {evaluate(ensemble)}\\n\"\n",
    "      )"
   ]
  },
  {
   "cell_type": "markdown",
   "metadata": {},
   "source": [
    "### gpt-3.5 turbo with with CoT and reflection"
   ]
  },
  {
   "cell_type": "code",
   "execution_count": null,
   "metadata": {},
   "outputs": [],
   "source": [
    "class ThoughtReflection(dspy.Module): \n",
    "    def __init__(self , num_attempts):\n",
    "        self.predict = dspy.ChainOfThought(\"question -> answer\", n=num_attempts)\n",
    "        self.compare = dspy.MultiChainComparison('question -> answer', M=num_attempts)\n",
    "        \n",
    "    def forward(self , question):\n",
    "        completions = self.predict(question=question).completions\n",
    "        return self.compare(question=question , completions=completions)\n",
    "\n",
    "reflection = ThoughtReflection(num_attempts=5)\n",
    "\n",
    "# Compiling\n",
    "fewshot = LabeledFewShot(k=8).compile(reflection, trainset=gsm8k_trainset)\n",
    "\n",
    "tp = BootstrapFewShotWithRandomSearch(metric=gsm8k_metric)\n",
    "bootstrap = tp.compile(reflection , trainset=gsm8k_trainset , valset=gsm8k_devset)\n",
    "bootstrap2 = tp.compile(reflection , teacher=bootstrap, trainset=gsm8k_trainset, valset=gsm8k_devset)\n",
    "# ensemble = Ensemble(reduce_fn=dspy.majority).compile()"
   ]
  },
  {
   "cell_type": "code",
   "execution_count": 40,
   "metadata": {},
   "outputs": [
    {
     "name": "stdout",
     "output_type": "stream",
     "text": [
      "Question: Martha's cat catches 3 rats and 7 birds. Cara's cat catches 3 less than five times as many animals as Martha's cat. How many animals does Cara's cat catch?\n",
      "Label: 47\n",
      "zeroshot: Cara's cat catches 7 animals.\n",
      "fewshot: 32\n",
      "bootstrap: 32\n",
      "bootstrap2: 32\n",
      "\n",
      "Now, a systematic evaluation\n"
     ]
    },
    {
     "name": "stderr",
     "output_type": "stream",
     "text": [
      "\n",
      "\n",
      "\n",
      "\u001b[A\u001b[A\u001b[A\n",
      "\n",
      "\n",
      "\u001b[A\u001b[A\u001b[A\n",
      "\n",
      "\n",
      "\u001b[A\u001b[A\u001b[A\n",
      "\n",
      "\n",
      "\u001b[A\u001b[A\u001b[A\n",
      "\n",
      "\n",
      "\u001b[A\u001b[A\u001b[A\n",
      "\n",
      "\n",
      "\u001b[A\u001b[A\u001b[A\n",
      "\n",
      "\n",
      "\u001b[A\u001b[A\u001b[A\n",
      "\n",
      "\n",
      "\u001b[A\u001b[A\u001b[A\n",
      "\n",
      "\n",
      "\u001b[A\u001b[A\u001b[A\n",
      "\n",
      "\n",
      "\u001b[A\u001b[A\u001b[A\n",
      "\n",
      "\n",
      "Average Metric: 3 / 10  (30.0): 100%|██████████| 10/10 [00:00<00:00, 305.17it/s]\n"
     ]
    },
    {
     "name": "stdout",
     "output_type": "stream",
     "text": [
      "Average Metric: 3 / 10  (30.0%)\n"
     ]
    },
    {
     "name": "stderr",
     "output_type": "stream",
     "text": [
      "\n",
      "\n",
      "\n",
      "\u001b[A\u001b[A\u001b[A\n",
      "\n",
      "\n",
      "\u001b[A\u001b[A\u001b[A\n",
      "\n",
      "\n",
      "\u001b[A\u001b[A\u001b[A\n",
      "\n",
      "\n",
      "\u001b[A\u001b[A\u001b[A\n",
      "\n",
      "\n",
      "\u001b[A\u001b[A\u001b[A\n",
      "\n",
      "\n",
      "\u001b[A\u001b[A\u001b[A\n",
      "\n",
      "\n",
      "\u001b[A\u001b[A\u001b[A\n",
      "\n",
      "\n",
      "\u001b[A\u001b[A\u001b[A\n",
      "\n",
      "\n",
      "\u001b[A\u001b[A\u001b[A\n",
      "\n",
      "\n",
      "\u001b[A\u001b[A\u001b[A\n",
      "\n",
      "\n",
      "Average Metric: 3 / 10  (30.0): 100%|██████████| 10/10 [00:00<00:00, 231.66it/s]\n"
     ]
    },
    {
     "name": "stdout",
     "output_type": "stream",
     "text": [
      "Average Metric: 3 / 10  (30.0%)\n"
     ]
    },
    {
     "name": "stderr",
     "output_type": "stream",
     "text": [
      "\n",
      "\n",
      "\n",
      "\u001b[A\u001b[A\u001b[A\n",
      "\n",
      "\n",
      "\u001b[A\u001b[A\u001b[A\n",
      "\n",
      "\n",
      "\u001b[A\u001b[A\u001b[A\n",
      "\n",
      "\n",
      "\u001b[A\u001b[A\u001b[A\n",
      "\n",
      "\n",
      "\u001b[A\u001b[A\u001b[A\n",
      "\n",
      "\n",
      "\u001b[A\u001b[A\u001b[A\n",
      "\n",
      "\n",
      "\u001b[A\u001b[A\u001b[A\n",
      "\n",
      "\n",
      "\u001b[A\u001b[A\u001b[A\n",
      "\n",
      "\n",
      "\u001b[A\u001b[A\u001b[A\n",
      "\n",
      "\n",
      "\u001b[A\u001b[A\u001b[A\n",
      "\n",
      "\n",
      "Average Metric: 3 / 10  (30.0): 100%|██████████| 10/10 [00:00<00:00, 441.17it/s]"
     ]
    },
    {
     "name": "stdout",
     "output_type": "stream",
     "text": [
      "Average Metric: 3 / 10  (30.0%)\n",
      "\n",
      "Scores:\n",
      "fewshot:    30.0\n",
      "bootstrap:  30.0\n",
      "bootstrap2: 30.0\n",
      "\n"
     ]
    },
    {
     "name": "stderr",
     "output_type": "stream",
     "text": [
      "\n"
     ]
    }
   ],
   "source": [
    "print(f\"Question: {gsm8k_devset[q].question}\\n\"\n",
    "      f\"Label: {gsm8k_devset[q].answer}\\n\"\n",
    "      f\"zeroshot: {reflection(gsm8k_devset[q].question).answer}\\n\"\n",
    "      f\"fewshot: {fewshot(gsm8k_devset[q].question).answer}\\n\"\n",
    "      f\"bootstrap: {bootstrap(gsm8k_devset[q].question).answer}\\n\"\n",
    "      f\"bootstrap2: {bootstrap2(gsm8k_devset[q].question).answer}\\n\"\n",
    "      # f\"Ensemble: {bootstrap2(gsm8k_devset[q].question).answer}\\n\"\n",
    "      )\n",
    "\n",
    "print(\"Now, a systematic evaluation\")\n",
    "evaluate = Evaluate(devset=gsm8k_devset, metric=gsm8k_metric, num_threads=4, display_progress=True, display_table=0)\n",
    "print(f\"\\nScores:\\n\"\n",
    "      # f\"zeroshot:   {evaluate(reflection)}\\n\"\n",
    "      f\"fewshot:    {evaluate(fewshot)}\\n\"\n",
    "      f\"bootstrap:  {evaluate(bootstrap)}\\n\"\n",
    "      f\"bootstrap2: {evaluate(bootstrap2)}\\n\"\n",
    "      # f\"Ensemble: {evaluate(ensamble)}\\n\"\n",
    "      )"
   ]
  },
  {
   "cell_type": "markdown",
   "metadata": {},
   "source": [
    "Note that BootstrapFewShot is not an optimizing teleprompter, i.e. it simple creates and validates examples for steps of the pipeline but does not optimize the metric. \n",
    "\n",
    "Other teleprompters like BootstrapFewShotWithRandomSearch and MIPRO will apply direct optimization."
   ]
  },
  {
   "cell_type": "markdown",
   "metadata": {},
   "source": [
    "## HotPotQA Dataset"
   ]
  },
  {
   "cell_type": "code",
   "execution_count": 41,
   "metadata": {},
   "outputs": [],
   "source": [
    "from dspy.datasets.hotpotqa import HotPotQA\n",
    "from dspy.teleprompt import (\n",
    "    LabeledFewShot,\n",
    "    BootstrapFewShotWithRandomSearch,\n",
    "    BootstrapFinetune,\n",
    "    Ensemble\n",
    ")\n",
    "from dspy.evaluate import Evaluate\n",
    "from dspy.evaluate import answer_exact_match\n",
    "\n",
    "gpt35_turbo = dspy.OpenAI(model='gpt-3.5-turbo-instruct')\n",
    "colbertv2_wiki17_abstracts = dspy.ColBERTv2(url='http://20.102.90.50:2017/wiki17_abstracts')\n",
    "dspy.settings.configure(lm=gpt35_turbo, rm=colbertv2_wiki17_abstracts)"
   ]
  },
  {
   "cell_type": "code",
   "execution_count": 42,
   "metadata": {},
   "outputs": [
    {
     "name": "stderr",
     "output_type": "stream",
     "text": [
      "/Users/maykcaldas/miniconda3/envs/dspy/lib/python3.10/site-packages/datasets/table.py:1421: FutureWarning: promote has been superseded by promote_options='default'.\n",
      "  table = cls._concat_blocks(blocks, axis=0)\n",
      "  0%|          | 0/10 [43:09<?, ?it/s]\n",
      "  0%|          | 0/10 [27:41<?, ?it/s]\n",
      "Average Metric: 1.0 / 2  (50.0):  20%|██        | 2/10 [05:29<21:57, 164.70s/it]\n"
     ]
    }
   ],
   "source": [
    "dataset = HotPotQA(train_size=10, dev_size=10)\n",
    "hotpot_trainset = [x.with_inputs('question') for x in dataset.train]\n",
    "hotpot_devset = [x.with_inputs('question') for x in dataset.dev]"
   ]
  },
  {
   "cell_type": "code",
   "execution_count": 43,
   "metadata": {},
   "outputs": [
    {
     "data": {
      "text/plain": [
       "Example({'question': 'Which Swedish-born actress is know for her role in a 2005 British adventure horror film written and directed by Neil Marshall?', 'answer': 'MyAnna Buring'}) (input_keys={'question'})"
      ]
     },
     "execution_count": 43,
     "metadata": {},
     "output_type": "execute_result"
    }
   ],
   "source": [
    "hotpot_trainset[8]"
   ]
  },
  {
   "cell_type": "code",
   "execution_count": 50,
   "metadata": {},
   "outputs": [],
   "source": [
    "class Vanilla(dspy.Module):\n",
    "    def __init__(self):\n",
    "        super().__init__()\n",
    "        self.predict = dspy.Predict(\"question -> answer\")\n",
    "    \n",
    "    def forward(self, question):\n",
    "        return self.predict(question=question)\n",
    "\n",
    "\n",
    "class RAG(dspy.Module):\n",
    "    def __init__(self , num_passages=3):\n",
    "        self.retrieve = dspy.Retrieve(k=num_passages)\n",
    "        self.generate_answer = dspy.ChainOfThought(\"context, question  -> answer\")\n",
    "\n",
    "    def forward(self , question):\n",
    "        context = self.retrieve(question).passages\n",
    "        return self.generate_answer(context=context, question=question)\n",
    "\n",
    "\n",
    "class React(dspy.Module):\n",
    "    def __init__(self):\n",
    "        super().__init__()\n",
    "        self.react = dspy.ReAct(\"question  -> answer\", tools=[dspy.Retrieve(k=1)], max_iters=5)\n",
    "\n",
    "    def forward(self, question):\n",
    "        return self.react(question=question)\n",
    "\n",
    "\n",
    "class BasicMultiHop(dspy.Module):\n",
    "    def __init__(self, passages_per_hop=3):\n",
    "        self.retrieve = dspy.Retrieve(k=passages_per_hop)\n",
    "        self.generate_query = dspy.ChainOfThought(\"context , question  -> search_query\")\n",
    "        self.generate_answer = dspy.ChainOfThought(\"context , question  -> answer\")\n",
    "    \n",
    "    def forward(self, question):\n",
    "        context = []\n",
    "        for hop in range(2):\n",
    "            query = self.generate_query(context=context, question=question).search_query \n",
    "            context  += self.retrieve(query).passages\n",
    "\n",
    "        return self.generate_answer(context=context, question=question)\n",
    "\n",
    "# Pipelines\n",
    "vanilla = Vanilla()\n",
    "cot = RAG(num_passages=3)\n",
    "react = React()\n",
    "multihop = BasicMultiHop()\n",
    "# multihop_t5 = BootstrapFinetune(metric=answer_exact_match).compile(model, teacher=bootstrap, trainset=hotpot_trainset, target='t5-large')"
   ]
  },
  {
   "cell_type": "code",
   "execution_count": null,
   "metadata": {},
   "outputs": [],
   "source": [
    "# Compilations\n",
    "for model in [cot]:#, vanilla, ract, multihop]:\n",
    "    fewshot = LabeledFewShot(k=8).compile(model, trainset=hotpot_trainset)\n",
    "\n",
    "    tp = BootstrapFewShotWithRandomSearch(metric=answer_exact_match)\n",
    "    bootstrap = tp.compile(model, trainset=hotpot_trainset, valset=hotpot_devset)\n",
    "\n",
    "    # evaluate = Evaluate(devset=hotpot_devset, metric=answer_exact_match, num_threads=4, display_progress=True, display_table=0)\n",
    "    # print(f\"\\nScores for {model}:\\n\"\n",
    "    #     f\"zeroshot:   {evaluate(model)}\\n\"\n",
    "    #     f\"fewshot:    {evaluate(fewshot)}\\n\"\n",
    "    #     f\"bootstrap:  {evaluate(bootstrap)}\\n\"\n",
    "    #     # f\"T5-FT: {evaluate(multihop_t5)}\\n\"\n",
    "    #     )"
   ]
  },
  {
   "cell_type": "code",
   "execution_count": 52,
   "metadata": {},
   "outputs": [
    {
     "name": "stderr",
     "output_type": "stream",
     "text": [
      "Average Metric: 1 / 10  (10.0): 100%|██████████| 10/10 [00:00<00:00, 3615.16it/s]\n"
     ]
    },
    {
     "name": "stdout",
     "output_type": "stream",
     "text": [
      "Average Metric: 1 / 10  (10.0%)\n"
     ]
    },
    {
     "name": "stderr",
     "output_type": "stream",
     "text": [
      "Average Metric: 2 / 10  (20.0): 100%|██████████| 10/10 [00:00<00:00, 178.73it/s]\n"
     ]
    },
    {
     "name": "stdout",
     "output_type": "stream",
     "text": [
      "Average Metric: 2 / 10  (20.0%)\n"
     ]
    },
    {
     "name": "stderr",
     "output_type": "stream",
     "text": [
      "Average Metric: 5 / 10  (50.0): 100%|██████████| 10/10 [00:00<00:00, 1124.21it/s]"
     ]
    },
    {
     "name": "stdout",
     "output_type": "stream",
     "text": [
      "Average Metric: 5 / 10  (50.0%)\n",
      "\n",
      "Scores for cot:\n",
      "zeroshot:   10.0\n",
      "fewshot:    20.0\n",
      "bootstrap:  50.0\n",
      "\n"
     ]
    },
    {
     "name": "stderr",
     "output_type": "stream",
     "text": [
      "\n"
     ]
    }
   ],
   "source": [
    "evaluate = Evaluate(devset=hotpot_devset, metric=answer_exact_match, num_threads=4, display_progress=True, display_table=0)\n",
    "print(f\"\\nScores for cot:\\n\"\n",
    "    f\"zeroshot:   {evaluate(cot)}\\n\"\n",
    "    f\"fewshot:    {evaluate(fewshot)}\\n\"\n",
    "    f\"bootstrap:  {evaluate(bootstrap)}\\n\"\n",
    "    # f\"T5-FT: {evaluate(multihop_t5)}\\n\"\n",
    "    )"
   ]
  },
  {
   "cell_type": "code",
   "execution_count": 56,
   "metadata": {},
   "outputs": [
    {
     "name": "stdout",
     "output_type": "stream",
     "text": [
      "Label in the dataset: Lowell Thomas George\n",
      "Bootstrap generation: Lowell George\n",
      "\n",
      "\n",
      "Given the fields `context`, `question`, produce the fields `answer`.\n",
      "\n",
      "---\n",
      "\n",
      "Follow the following format.\n",
      "\n",
      "Context: ${context}\n",
      "\n",
      "Question: ${question}\n",
      "\n",
      "Reasoning: Let's think step by step in order to ${produce the answer}. We ...\n",
      "\n",
      "Answer: ${answer}\n",
      "\n",
      "---\n",
      "\n",
      "Context:\n",
      "[1] «Schipperke | A Schipperke ( ; ] ) is a small Belgian breed of dog that originated in the early 16th century. There has been a long informal debate over whether this type of dog is a spitz or miniature sheepdog. In their home country of Belgium they are considered a small shepherd.»\n",
      "[2] «Mucuchies | Mucuchí (Venezuelan Sheepdog) is a dog breed from Venezuela (specifically from Sierra Nevada de Mérida). The dogs have a short coat with feathering along their limbs. The coat color is either white or white with splashes of colors such as honey or tan, or shades of black and gray.»\n",
      "[3] «Schizodon | Schizodon is a genus of headstander from South America. Though found widely in tropical freshwater habitats in the continent, the greatest species richness is in the Paraná–Paraguay–Uruguay river basin. There are currently 16 described species in this genus.»\n",
      "[4] «Mussurana | The mussurana or musurana (Portuguese muçurana) is a genus (Clelia) of colubrid snakes found in Central America and South America, from Guatemala to Brazil. They specialize in ophiophagy, i.e., they attack and eat other snakes. Currently six species are recognized.»\n",
      "[5] «Neacomys musseri | Neacomys musseri, also known as Musser's neacomys or Musser's bristly mouse, is a rodent species from South America. It is found in far western Brazil and southeastern Peru.»\n",
      "\n",
      "Question: Which dog is from South America the Schipperke or the Mucuchies?\n",
      "\n",
      "Reasoning: Let's think step by step in order to\n",
      " determine which dog is from South America. We know that the Schipperke is a Belgian breed of dog, while the Mucuchies is a Venezuelan breed. Therefore, we can eliminate the Schipperke as a potential answer. Next, we know that the Mucuchies is specifically from Sierra Nevada de Mérida in Venezuela. Therefore, the answer must be the Mucuchies.\n",
      "\n",
      "Answer: The Mucuchies is from South America.\n"
     ]
    }
   ],
   "source": [
    "print(f\"Label in the dataset: {hotpot_devset[0].answer}\")\n",
    "print(f\"Bootstrap generation: {bootstrap(hotpot_devset[0].question).answer}\\n\\n\")\n",
    "\n",
    "print(gpt35_turbo.history[0]['prompt'])\n",
    "print(gpt35_turbo.history[0]['response']['choices'][0]['text'])"
   ]
  },
  {
   "cell_type": "markdown",
   "metadata": {},
   "source": [
    "### Mucuchies"
   ]
  },
  {
   "cell_type": "markdown",
   "metadata": {},
   "source": [
    "From Venezuela: https://wagwalking.com/breed/mucuchies"
   ]
  },
  {
   "cell_type": "markdown",
   "metadata": {},
   "source": [
    "![Mucuchies](https://encrypted-tbn0.gstatic.com/images?q=tbn:ANd9GcRbtBDYggrTgtS7gYufj3MFtzonvXnz-6kAhQwPLtkf_IiEJKww)"
   ]
  },
  {
   "cell_type": "markdown",
   "metadata": {},
   "source": [
    "# Let's do something fun now"
   ]
  },
  {
   "cell_type": "code",
   "execution_count": 57,
   "metadata": {},
   "outputs": [
    {
     "name": "stdout",
     "output_type": "stream",
     "text": [
      "[{'id': 'if66', 'score': 0.6682103276252747, 'long_text': 'Procedure: To synthesize Mn-Na2MoO4/SiO2, SiO2 (1.0 g) was impregnated with 4.5 mL of an aqueous solution consiting of Mn (40%), Na (40%), Mo (20%), at 50 ºC for 6 h. Once activated the reaction is ran at 750 ºC. The total flow rate was 20 mL/min (Ar: 3.0 mL/min, CH4: 13.6 mL/min, O2: 3.4 mL/min), leading to a contact time of 0.38 s.\\nC2_yield: 11.84', 'metadatas': None}, {'id': 'if35', 'score': 0.6691545248031616, 'long_text': 'Procedure: To synthesize Mn-Na2MoO4/SiO2, SiO2 (1.0 g) was impregnated with 4.5 mL of an aqueous solution consiting of Mn (40%), Na (40%), Mo (20%), at 50 ºC for 6 h. Once activated the reaction is ran at 800 ºC. The total flow rate was 20 mL/min (Ar: 3.0 mL/min, CH4: 14.6 mL/min, O2: 2.4 mL/min), leading to a contact time of 0.38 s.\\nC2_yield: 6.71', 'metadatas': None}, {'id': 'if3', 'score': 0.6768436431884766, 'long_text': 'Procedure: To synthesize Mn-Na2MoO4/SiO2, SiO2 (1.0 g) was impregnated with 4.5 mL of an aqueous solution consiting of Mn (40%), Na (40%), Mo (20%), at 50 ºC for 6 h. Once activated the reaction is ran at 700 ºC. The total flow rate was 15 mL/min (Ar: 2.3 mL/min, CH4: 10.9 mL/min, O2: 1.8 mL/min), leading to a contact time of 0.5 s.\\nC2_yield: 3.32', 'metadatas': None}, {'id': 'if30', 'score': 0.6783097386360168, 'long_text': 'Procedure: To synthesize Mn-Na2MoO4/SiO2, SiO2 (1.0 g) was impregnated with 4.5 mL of an aqueous solution consiting of Mn (40%), Na (40%), Mo (20%), at 50 ºC for 6 h. Once activated the reaction is ran at 900 ºC. The total flow rate was 15 mL/min (Ar: 10.5 mL/min, CH4: 3.4 mL/min, O2: 1.1 mL/min), leading to a contact time of 0.5 s.\\nC2_yield: 5.72', 'metadatas': None}, {'id': 'if11', 'score': 0.6814243197441101, 'long_text': 'Procedure: To synthesize Mn-Na2MoO4/SiO2, SiO2 (1.0 g) was impregnated with 4.5 mL of an aqueous solution consiting of Mn (40%), Na (40%), Mo (20%), at 50 ºC for 6 h. Once activated the reaction is ran at 775 ºC. The total flow rate was 15 mL/min (Ar: 6.0 mL/min, CH4: 7.2 mL/min, O2: 1.8 mL/min), leading to a contact time of 0.5 s.\\nC2_yield: 11.55', 'metadatas': None}, {'id': 'if77', 'score': 0.723724365234375, 'long_text': 'Procedure: To synthesize Mn-MgWO4/SiO2, SiO2 (1.0 g) was impregnated with 4.5 mL of an aqueous solution consiting of Mn (40%), Mg (40%), W (20%), at 50 ºC for 6 h. Once activated the reaction is ran at 750 ºC. The total flow rate was 20 mL/min (Ar: 14.0 mL/min, CH4: 4.5 mL/min, O2: 1.5 mL/min), leading to a contact time of 0.38 s.\\nC2_yield: 6.3', 'metadatas': None}, {'id': 'if23', 'score': 0.7247927188873291, 'long_text': 'Procedure: To synthesize Mn-MgWO4/SiO2, SiO2 (1.0 g) was impregnated with 4.5 mL of an aqueous solution consiting of Mn (40%), Mg (40%), W (20%), at 50 ºC for 6 h. Once activated the reaction is ran at 800 ºC. The total flow rate was 15 mL/min (Ar: 10.5 mL/min, CH4: 3.6 mL/min, O2: 0.9 mL/min), leading to a contact time of 0.5 s.\\nC2_yield: 14.09', 'metadatas': None}]\n"
     ]
    }
   ],
   "source": [
    "import pandas as pd\n",
    "import numpy as np\n",
    "import random\n",
    "random.seed(42)\n",
    "\n",
    "from dspy.teleprompt import (\n",
    "    LabeledFewShot,\n",
    "    BootstrapFewShot,\n",
    "    BootstrapFewShotWithRandomSearch,\n",
    "    BootstrapFewShotWithOptuna\n",
    ")\n",
    "from dspy.retrieve.chromadb_rm import ChromadbRM\n",
    "import openai\n",
    "from chromadb.utils.embedding_functions import OpenAIEmbeddingFunction\n",
    "import chromadb\n",
    "from chromadb.utils import embedding_functions\n",
    "from chromadb.config import Settings\n",
    "\n",
    "#TODO: Fix gpt model -> gpt-3.5-turbo\n",
    "gpt35_turbo = dspy.OpenAI(model='gpt-3.5-turbo-instruct')\n",
    " \n",
    "df = pd.read_csv(\"../data/12744_ocm_dataset.csv\", sep=\";\").astype(str)\n",
    "df = df.rename(columns={\"prompt\": \"procedure\", \"completion\": \"C2_yield\"})\n",
    "\n",
    "n_data = len(df)\n",
    "indexes = np.random.choice(n_data, int(n_data), replace=False)\n",
    "train = np.random.choice(n_data, int(n_data * 0.8), replace=False)\n",
    "test = np.setdiff1d(np.arange(n_data), train)\n",
    "test = np.random.choice(test, min(200, len(test)), replace=False)\n",
    "\n",
    "# Create dataset\n",
    "train_df = df.iloc[train].reset_index(drop=True)[:100]\n",
    "dev_df = df.iloc[train].reset_index(drop=True).sample(200)\n",
    "\n",
    "train_dataset = [dspy.Example(x).with_inputs('procedure') for x in train_df.to_dict(orient='records')]\n",
    "dev_dataset = [dspy.Example(x).with_inputs('procedure') for x in dev_df.to_dict(orient='records')]\n",
    "\n",
    "# Save train_dataset in chromaDB\n",
    "chroma_client = client = chromadb.PersistentClient(path=\"./omc-db\")\n",
    "default_ef = embedding_functions.DefaultEmbeddingFunction()\n",
    "collection = chroma_client.get_or_create_collection(name=\"ocm\", embedding_function=default_ef)\n",
    "\n",
    "collection.add(\n",
    "    documents=[\n",
    "        f\"Procedure: {x.procedure}\\nC2_yield: {x['C2_yield']}\" for x in train_dataset\n",
    "        ],\n",
    "    # metadatas=[{\"procedure\": x.procedure, \"yield\": x[\"C2_yield\"]} for x in train_dataset],\n",
    "    ids=[f\"if{i}\" for i, _ in enumerate(train_dataset)]\n",
    ")\n",
    "\n",
    "ocm_rm = ChromadbRM(collection_name='ocm', persist_directory=\"./omc-db\", embedding_function=default_ef)\n",
    "print(ocm_rm('Mn-Na2WO4/SiO2'))\n",
    "\n",
    "dspy.settings.configure(lm=gpt35_turbo, rm=ocm_rm)"
   ]
  },
  {
   "cell_type": "code",
   "execution_count": 58,
   "metadata": {},
   "outputs": [],
   "source": [
    "def evaluate(model, devset, metric, verbose=False):\n",
    "    pred = []\n",
    "    examples = []\n",
    "    failed = 0\n",
    "    for example in devset:\n",
    "        try:\n",
    "            yhat = model(example.procedure).C2_yield\n",
    "            pred.append(float(yhat))\n",
    "            examples.append(example)\n",
    "        except:\n",
    "            failed += 1\n",
    "            if verbose:\n",
    "                print(\"WARNING: Failed to parse response for example:\", example)\n",
    "                print(\"WARNING: Model completed:\", yhat, \"\\n\")\n",
    "    return metric(examples, pred), pred, examples, failed"
   ]
  },
  {
   "cell_type": "code",
   "execution_count": 59,
   "metadata": {},
   "outputs": [
    {
     "name": "stdout",
     "output_type": "stream",
     "text": [
      "3.9376000000000007\n"
     ]
    }
   ],
   "source": [
    "def mae(example, pred, trace=None):\n",
    "    try:\n",
    "        pred = np.array(pred)\n",
    "        labels = np.array([float(exp.C2_yield) for exp in example])\n",
    "    except: \n",
    "        return -10\n",
    "    return -np.sum(np.absolute(pred - labels)) / len(pred)\n",
    "\n",
    "\n",
    "class OCMSignature(dspy.Signature):\n",
    "    \"\"\"Predict C2 yield from a given experimental procedure\"\"\"\n",
    "\n",
    "    context = dspy.InputField(desc=\"Similar procedures to the one being evaluated.\")\n",
    "    procedure = dspy.InputField(desc=\"A description of the experiment.\")\n",
    "    C2_yield = dspy.OutputField(desc=\"C2 yield in %. The answer should be only a number.\")\n",
    "\n",
    "\n",
    "class Vanilla(dspy.Module):\n",
    "    def __init__(self):\n",
    "        super().__init__()\n",
    "        self.predict = dspy.Predict(\"procedure -> C2_yield\")\n",
    "        # self.predict = dspy.Predict(OCMSignature)\n",
    "    \n",
    "    def forward(self, procedure):\n",
    "        return self.predict(procedure=procedure)\n",
    "\n",
    "\n",
    "class CoT(dspy.Module):\n",
    "    def __init__(self , num_passages=3):\n",
    "        self.cot = dspy.ChainOfThought(\"procedure  -> C2_yield\")\n",
    "\n",
    "    def forward(self , procedure):\n",
    "        return self.cot(procedure=procedure)\n",
    "\n",
    "\n",
    "class VanillaWRetrieval(dspy.Module):\n",
    "    def __init__(self, k=5):\n",
    "        super().__init__()\n",
    "        self.retrieve = dspy.Retrieve(k)\n",
    "        # self.predict = dspy.Predict(\"context, procedure -> C2_yield\")\n",
    "        self.predict = dspy.Predict(OCMSignature)\n",
    "    \n",
    "    def forward(self, procedure):\n",
    "        context = self.retrieve(procedure).passages\n",
    "        return self.predict(context=context, procedure=procedure)\n",
    "    \n",
    "class COTWRetrieval(dspy.Module):\n",
    "    def __init__(self, k=5):\n",
    "        super().__init__()\n",
    "        self.retrieve = dspy.Retrieve(k)\n",
    "        self.cot = dspy.ChainOfThought(\"context, procedure  -> C2_yield\")\n",
    "\n",
    "    def forward(self , procedure):\n",
    "        context = self.retrieve(procedure).passages\n",
    "        return self.cot(context=context, procedure=procedure)\n",
    "\n",
    "vanilla = Vanilla()\n",
    "cot = CoT()\n",
    "r_vanilla = VanillaWRetrieval(k=3)\n",
    "r_cot = COTWRetrieval(k=5)\n",
    "\n",
    "# results = {}\n",
    "# for p in [vanilla, cot]:\n",
    "#     r = {}\n",
    "#     fewshot = LabeledFewShot(k=5).compile(p, trainset=train_dataset)\n",
    "#     m, yhat, y, f = evaluate(fewshot, dev_dataset[:50], mae)\n",
    "#     r['fewshot'] = (-m, yhat, y, f)\n",
    "\n",
    "#     tp = BootstrapFewShot(metric=mae)\n",
    "#     bfewshot = tp.compile(p, trainset=train_dataset, valset=dev_dataset[:10])\n",
    "#     m, yhat, y, f = evaluate(bfewshot, dev_dataset[:50], mae)\n",
    "#     r['bootstrap'] = (-m, yhat, y, f)\n",
    "\n",
    "#     # tp = BootstrapFewShotWithRandomSearch(metric=mae)\n",
    "#     tp = BootstrapFewShotWithOptuna(metric=mae)\n",
    "#     bootstrap = tp.compile(p, trainset=train_dataset, valset=dev_dataset[:10])    \n",
    "#     m, yhat, y, f = evaluate(bootstrap, dev_dataset[:50], mae)\n",
    "#     r['bootstrap2'] = (-m, yhat, y, f)\n",
    "    \n",
    "#     results[p] = r\n",
    "  \n",
    "\n",
    "fewshot = LabeledFewShot(k=5).compile(r_cot, trainset=train_dataset)\n",
    "\n",
    "fewshot_tp = BootstrapFewShot(metric=mae, max_bootstrapped_demos=4, max_labeled_demos=16, max_rounds=1, max_errors=5)\n",
    "bfewshot = fewshot_tp.compile(student = r_cot, trainset=train_dataset)\n",
    "\n",
    "tp = BootstrapFewShotWithRandomSearch(metric=mae)\n",
    "bootstrap = tp.compile(r_vanilla, trainset=train_dataset, valset=dev_dataset[:10])\n",
    "\n",
    "m, yhat, y, f = evaluate(r_vanilla, dev_dataset[:50], mae)\n",
    "print(-m)"
   ]
  },
  {
   "cell_type": "code",
   "execution_count": 60,
   "metadata": {},
   "outputs": [
    {
     "name": "stdout",
     "output_type": "stream",
     "text": [
      "3.9376000000000007\n"
     ]
    }
   ],
   "source": [
    "m, yhat, y, f = evaluate(r_vanilla, dev_dataset[:50], mae)\n",
    "print(-m)"
   ]
  },
  {
   "cell_type": "code",
   "execution_count": 61,
   "metadata": {},
   "outputs": [
    {
     "name": "stdout",
     "output_type": "stream",
     "text": [
      "Example({'procedure': 'To synthesize Hf-Na2WO4/SiO2, SiO2 (1.0 g) was impregnated with 4.5 mL of an aqueous solution consiting of Hf (40%), Na (40%), W (20%), at 50 ºC for 6 h. Once activated the reaction is ran at 775 ºC. The total flow rate was 10 mL/min (Ar: 7.0 mL/min, CH4: 2.6 mL/min, O2: 0.4 mL/min), leading to a contact time of 0.75 s.', 'C2_yield': '7.9'}) (input_keys={'procedure'})\n"
     ]
    },
    {
     "data": {
      "text/plain": [
       "Prediction(\n",
       "    C2_yield='8.92'\n",
       ")"
      ]
     },
     "execution_count": 61,
     "metadata": {},
     "output_type": "execute_result"
    }
   ],
   "source": [
    "q=13\n",
    "\n",
    "print(dev_dataset[q])\n",
    "r_vanilla(dev_dataset[q].procedure)"
   ]
  },
  {
   "cell_type": "code",
   "execution_count": 62,
   "metadata": {},
   "outputs": [
    {
     "name": "stdout",
     "output_type": "stream",
     "text": [
      "\n",
      "\n",
      "\n",
      "\n",
      "Predict C2 yield from a given experimental procedure\n",
      "\n",
      "---\n",
      "\n",
      "Follow the following format.\n",
      "\n",
      "Context: Similar procedures to the one being evaluated.\n",
      "Procedure: A description of the experiment.\n",
      "C 2 Yield: C2 yield in %. The answer should be only a number.\n",
      "\n",
      "---\n",
      "\n",
      "Context:\n",
      "[1] «Procedure: To synthesize Na2WO4/SiO2, SiO2 (1.0 g) was impregnated with 4.5 mL of an aqueous solution consiting of n.a. (0%), Na (67%), W (33%), at 50 ºC for 6 h. Once activated the reaction is ran at 800 ºC. The total flow rate was 10 mL/min (Ar: 4.0 mL/min, CH4: 4.8 mL/min, O2: 1.2 mL/min), leading to a contact time of 0.75 s.\n",
      "C2_yield: 10.87»\n",
      "[2] «Procedure: To synthesize Na2WO4/SiO2, SiO2 (1.0 g) was impregnated with 4.5 mL of an aqueous solution consiting of n.a. (0%), Na (67%), W (33%), at 50 ºC for 6 h. Once activated the reaction is ran at 800 ºC. The total flow rate was 15 mL/min (Ar: 10.5 mL/min, CH4: 3.9 mL/min, O2: 0.6 mL/min), leading to a contact time of 0.5 s.\n",
      "C2_yield: 12.84»\n",
      "[3] «Procedure: To synthesize Na2WO4/SiO2, SiO2 (1.0 g) was impregnated with 4.5 mL of an aqueous solution consiting of n.a. (0%), Na (67%), W (33%), at 50 ºC for 6 h. Once activated the reaction is ran at 700 ºC. The total flow rate was 10 mL/min (Ar: 4.0 mL/min, CH4: 4.5 mL/min, O2: 1.5 mL/min), leading to a contact time of 0.75 s.\n",
      "C2_yield: 5.15»\n",
      "Procedure: To synthesize Hf-Na2WO4/SiO2, SiO2 (1.0 g) was impregnated with 4.5 mL of an aqueous solution consiting of Hf (40%), Na (40%), W (20%), at 50 ºC for 6 h. Once activated the reaction is ran at 775 ºC. The total flow rate was 10 mL/min (Ar: 7.0 mL/min, CH4: 2.6 mL/min, O2: 0.4 mL/min), leading to a contact time of 0.75 s.\n",
      "C 2 Yield:\u001b[32m 8.92\u001b[0m\n",
      "\n",
      "\n",
      "\n"
     ]
    }
   ],
   "source": [
    "gpt35_turbo.inspect_history()"
   ]
  },
  {
   "cell_type": "code",
   "execution_count": 63,
   "metadata": {},
   "outputs": [
    {
     "data": {
      "image/png": "[encoded data removed]",
      "text/plain": [
       "<Figure size 640x480 with 1 Axes>"
      ]
     },
     "metadata": {},
     "output_type": "display_data"
    }
   ],
   "source": [
    "# print parity plot with y and yhat\n",
    "import matplotlib.pyplot as plt\n",
    "plt.scatter(\n",
    "    np.array([yi['C2_yield'] for yi in y]).astype(float),\n",
    "    np.array(yhat).astype(float), \n",
    "    )\n",
    "plt.plot([0, 15], [0, 15], '--', color='gray')\n",
    "plt.xlabel(\"True C2 yield\")\n",
    "plt.ylabel(\"Predicted C2 yield\")\n",
    "plt.text(0.5, 10, f\"MAE: {-m:.2f}\", fontsize=12)\n",
    "plt.show()\n"
   ]
  },
  {
   "cell_type": "code",
   "execution_count": null,
   "metadata": {},
   "outputs": [],
   "source": [
    "evaluate = Evaluate(devset=dev_dataset, metric=mae, num_threads=4, display_progress=True, display_table=0)\n",
    "print(f\"\\nScores for {cot}:\\n\"\n",
    "      # f\"vanilla:  {evaluate(vanilla)}\\n\"\n",
    "      # f\"zeroshot: {evaluate(cot)}\\n\"\n",
    "      f\"fewshot:  {evaluate(fewshot)}\\n\"\n",
    "      # f\"bootstrap:{evaluate(bootstrap)}\\n\"\n",
    "    )"
   ]
  }
 ],
 "metadata": {
  "kernelspec": {
   "display_name": "dspy",
   "language": "python",
   "name": "python3"
  },
  "language_info": {
   "codemirror_mode": {
    "name": "ipython",
    "version": 3
   },
   "file_extension": ".py",
   "mimetype": "text/x-python",
   "name": "python",
   "nbconvert_exporter": "python",
   "pygments_lexer": "ipython3",
   "version": "3.10.14"
  }
 },
 "nbformat": 4,
 "nbformat_minor": 2
}
